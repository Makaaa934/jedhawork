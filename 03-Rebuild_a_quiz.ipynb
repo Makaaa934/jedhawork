{
 "cells": [
  {
   "cell_type": "markdown",
   "metadata": {},
   "source": [
    "# Build a quiz - Part 2"
   ]
  },
  {
   "cell_type": "markdown",
   "metadata": {},
   "source": [
    "Ci-dessous se trouve le code que nous avons écrit hier, qui pose trois questions à l'utilisateur et autorise jusqu'à 3 mauvaises réponses :"
   ]
  },
  {
   "cell_type": "code",
   "execution_count": 4,
   "metadata": {},
   "outputs": [
    {
     "name": "stdout",
     "output_type": "stream",
     "text": [
      "C'est parti pour le quiz!\n",
      "🥳 Bingo, Quiz Réussi ! 🥳\n"
     ]
    }
   ],
   "source": [
    "nb_of_chances = 3\n",
    "\n",
    "print(\"C'est parti pour le quiz!\")\n",
    "\n",
    "if nb_of_chances > 0:\n",
    "    question1= input(\"Combien de fois la France à t'elle gagné la Coupe du Monde de Football ?\")\n",
    "    while question1 != \"2\":\n",
    "        nb_of_chances -= 1\n",
    "        print(\"biiiip, Mauvaise réponse 😓... encore {} chances restantes\".format(nb_of_chances))\n",
    "        if nb_of_chances == 0:\n",
    "            print(\"Aïeee! Game over 💥\")\n",
    "            break\n",
    "        question1 = input(\"Combien de fois la France à t'elle gagné la Coupe du Monde de Football ?\")\n",
    "\n",
    "if nb_of_chances > 0:\n",
    "    question2 = input(\"En quelle année a été fondée Apple ?\")\n",
    "    while question2 != \"1976\":\n",
    "        nb_of_chances -=1\n",
    "        print(\"biiiip, Mauvaise réponse 😓... encore {} chances restantes\".format(nb_of_chances))\n",
    "        if nb_of_chances == 0:\n",
    "            print(\"Aïeee! Game over 💥\")\n",
    "            break\n",
    "        question2 = input(\"En quelle année a été fondée Apple ?\")\n",
    "\n",
    "\n",
    "if nb_of_chances > 0:\n",
    "    question3 = input(\"en quelle année Elon Musk a-t-il fondé SpaceX ?\")\n",
    "    question3 = question3.lower()\n",
    "    while question3 != \"elon musk\":\n",
    "        nb_of_chances -=1\n",
    "        print(\"biiiip, Mauvaise réponse 😓... encore {} chances restantes\".format(nb_of_chances))\n",
    "        if nb_of_chances == 0:\n",
    "            print(\"Aïeee! Game over 💥\")\n",
    "            break\n",
    "        question3 = input(\"en quelle année Elon Musk a-t-il fondé SpaceX ?\")\n",
    "        question3 = question3.lower()\n",
    "\n",
    "if nb_of_chances > 0:\n",
    "    print(\"🥳 Bingo, Quiz Réussi ! 🥳\")\n"
   ]
  },
  {
   "attachments": {},
   "cell_type": "markdown",
   "metadata": {},
   "source": [
    "Maintenant que nous savons comment être sec, refactorisons notre quiz.\n",
    "\n",
    "## SPÉCIFICATIONS (SPECS)\n",
    "\n",
    "* Votre code doit être DRY\n",
    "* Vous devez utiliser des fonctions "
   ]
  }
 ],
 "metadata": {
  "kernelspec": {
   "display_name": ".venv",
   "language": "python",
   "name": "python3"
  },
  "language_info": {
   "codemirror_mode": {
    "name": "ipython",
    "version": 3
   },
   "file_extension": ".py",
   "mimetype": "text/x-python",
   "name": "python",
   "nbconvert_exporter": "python",
   "pygments_lexer": "ipython3",
   "version": "3.11.9"
  },
  "orig_nbformat": 2
 },
 "nbformat": 4,
 "nbformat_minor": 2
}
